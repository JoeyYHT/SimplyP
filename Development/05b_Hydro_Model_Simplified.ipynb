{
 "cells": [
  {
   "cell_type": "code",
   "execution_count": 1,
   "metadata": {},
   "outputs": [],
   "source": [
    "%matplotlib inline\n",
    "import numpy as np\n",
    "import pandas as pd\n",
    "import matplotlib.pyplot as plt\n",
    "from scipy.integrate import odeint\n",
    "\n",
    "plt.style.use('ggplot')"
   ]
  },
  {
   "cell_type": "markdown",
   "metadata": {},
   "source": [
    "# Read example Tarland data"
   ]
  },
  {
   "cell_type": "code",
   "execution_count": 2,
   "metadata": {},
   "outputs": [
    {
     "name": "stdout",
     "output_type": "stream",
     "text": [
      "            Rainfall_mm  PET_mm  Runoff_mm\n",
      "Date                                      \n",
      "2000-01-01         0.10    0.72   1.297504\n",
      "2000-01-02         1.00    0.72   1.304857\n",
      "2000-01-03         1.10    0.72   1.220296\n",
      "2000-01-04         1.38    0.72   1.155955\n",
      "2000-01-05         3.62    0.72   1.167152\n",
      "\n",
      "Annual averages:\n",
      "Rainfall_mm    965.661818\n",
      "PET_mm         529.885455\n",
      "Runoff_mm      458.833117\n",
      "dtype: float64\n"
     ]
    }
   ],
   "source": [
    "# Download Tarland data into a Pandas dataframe\n",
    "data_url = r'https://raw.githubusercontent.com/JamesSample/enviro_mod_notes/master/data/Tarland_Flow_And_Met_Data.csv'\n",
    "met_df = pd.read_csv(data_url, parse_dates=True, index_col=0)\n",
    "\n",
    "# Convert cumecs to mm\n",
    "cat_area = 51.7E6 # Catchment area in m2\n",
    "met_df['Runoff_mm'] = met_df['Q_Cumecs']*60*60*24*1000/cat_area\n",
    "del met_df['Q_Cumecs']\n",
    "\n",
    "# Linear interpolation of any missing values\n",
    "met_df.interpolate(method='linear', inplace=True) \n",
    "\n",
    "print (met_df.head())\n",
    "\n",
    "# Calculate annual averages for rainfall, PET and runoff\n",
    "ann_df = met_df.resample('A').sum()\n",
    "print ('\\nAnnual averages:')\n",
    "print (ann_df.mean())"
   ]
  },
  {
   "cell_type": "markdown",
   "metadata": {},
   "source": [
    "# Simple hydrological model\n",
    "\n",
    "The code below runs the model for a single time step (i.e. constant P and E), but evaluates the ODEs at 1000 intermediate time points. This is the same as the example in [Section 2 of Notebook 5](https://nbviewer.jupyter.org/github/JamesSample/enviro_mod_notes/blob/master/notebooks/05_A_Hydrological_Model.ipynb#2.-Solving-ODEs), except I've simplified the ODEs as pointed out by Magnus. If the simplifications work OK for this basic example, they should also work OK for the full model.\n",
    "\n",
    "In the code below, I've removed the calculation of $\\frac{dS}{dt}$ via the Chain Rule and instead calculated values for $S$ explicitly (i.e. outside of the ODE solver) using \n",
    "\n",
    "$$S = \\frac{(V_s - V_{fc})}{\\tau_s(1 + e^{V_{fc} - V_s})}$$\n",
    "\n",
    "The appears to give the same results (to within floating point error) as my original, and it's certainly simpler (and probably slightly faster?)."
   ]
  },
  {
   "cell_type": "code",
   "execution_count": 3,
   "metadata": {},
   "outputs": [
    {
     "name": "stdout",
     "output_type": "stream",
     "text": [
      "                     V         S         G          Ds          Dg\n",
      "298.798799  340.033391  5.003339  2.715576  471.293478  435.382625\n",
      "299.099099  340.033391  5.003339  2.716435  471.894479  436.198243\n",
      "299.399399  340.033391  5.003339  2.717291  472.495481  437.014118\n",
      "299.699700  340.033391  5.003339  2.718145  473.096483  437.830249\n",
      "300.000000  340.033391  5.003339  2.718996  473.697484  438.646637\n"
     ]
    },
    {
     "data": {
      "image/png": "[encoded data removed]",
      "text/plain": [
       "<Figure size 576x720 with 5 Axes>"
      ]
     },
     "metadata": {
      "needs_background": "light"
     },
     "output_type": "display_data"
    }
   ],
   "source": [
    "# Example model parameters\n",
    "alpha = 0.75    # PET correction factor (dimensionless)\n",
    "beta = 0.6      # BFI (dimensionless)\n",
    "T_s = 10.       # Soil residence time (days)\n",
    "T_g = 100.      # Groundwater residence time (days)\n",
    "fc = 290        # Field capacity (mm)\n",
    "step_len = 300  # Time step length (days)\n",
    "\n",
    "# Example initial conditions\n",
    "P = 8.         # Precipitation (mm/day)\n",
    "E = 4.         # PET (mm/day)\n",
    "Vs0 = 0.       # Initial soil volume (mm)\n",
    "Vg0 = 0.       # Initial groundwater volume (mm)\n",
    "\n",
    "# Calculate S0 and G0 from Vs0 and Vg0\n",
    "S0 = (Vs0 - fc)/(T_s*(1 + np.exp(fc - Vs0)))\n",
    "G0 = Vg0/T_g       \n",
    "\n",
    "# Array of time points at which to evaluate ODEs\n",
    "ti = np.linspace(0, step_len, 1000)\n",
    "\n",
    "def f(y, t, params):\n",
    "    \"\"\" Define ODE system.\n",
    "            y is list [V, S, G, Ds, Dg]\n",
    "            t is an array of time points of interest\n",
    "            params is a tuple (P, E, alpha, beta, T_s, T_g, fc)\n",
    "    \"\"\"\n",
    "    # Unpack incremental values for V and G\n",
    "    Vi = y[0]\n",
    "    Gi = y[1]\n",
    "    \n",
    "    # Unpack params\n",
    "    P, E, alpha, beta, T_s, T_g, fc = params\n",
    "\n",
    "    # Model equations (see section 2.2)\n",
    "    Si = (Vi - fc)/(T_s*(1 + np.exp(fc - Vi)))        # Calculate Si explicitly, instead of using ODE\n",
    "    dV_dt = P - alpha*E*(1 - np.exp(-0.02*Vi)) - Si   # Use Si to calculate dV_dt\n",
    "    dG_dt = (beta*Si - Gi)/T_g\n",
    "    dDs_dt = (1 - beta)*Si\n",
    "    dDg_dt = Gi\n",
    "    \n",
    "    # Add results of equations to an array\n",
    "    res = np.array([dV_dt, dG_dt, dDs_dt, dDg_dt])\n",
    "    \n",
    "    return res\n",
    "\n",
    "# Vector of initial conditions\n",
    "y0 = [Vs0, G0, 0, 0]\n",
    "\n",
    "# Model parameters\n",
    "params=[P, E, alpha, beta, T_s, T_g, fc]\n",
    "\n",
    "# Solve\n",
    "y = odeint(f, y0, ti, args=(params,))\n",
    "\n",
    "# Build df from output\n",
    "df = pd.DataFrame(data=y,\n",
    "                  columns=['V', 'G', 'Ds', 'Dg'],\n",
    "                  index=ti)\n",
    "\n",
    "# Calculate values for S outside of solver using the explicit equation\n",
    "df['S'] = (df['V'] - fc)/(T_s*(1 + np.exp(fc - df['V'])))\n",
    "\n",
    "# Reorder columns\n",
    "df = df[['V', 'S', 'G', 'Ds', 'Dg']]\n",
    "\n",
    "# Plot\n",
    "df.plot(subplots=True, figsize=(8, 10))\n",
    "print (df.tail())"
   ]
  }
 ],
 "metadata": {
  "kernelspec": {
   "display_name": "Python 3",
   "language": "python",
   "name": "python3"
  },
  "language_info": {
   "codemirror_mode": {
    "name": "ipython",
    "version": 3
   },
   "file_extension": ".py",
   "mimetype": "text/x-python",
   "name": "python",
   "nbconvert_exporter": "python",
   "pygments_lexer": "ipython3",
   "version": "3.6.6"
  }
 },
 "nbformat": 4,
 "nbformat_minor": 2
}
