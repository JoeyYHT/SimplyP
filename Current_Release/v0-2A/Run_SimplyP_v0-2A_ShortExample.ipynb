{
 "cells": [
  {
   "cell_type": "markdown",
   "metadata": {},
   "source": [
    "# SimplyP v.0.2 (alpha)\n",
    "\n",
    "This notebook demonstrates basic usage of the [SimplyP model](https://github.com/LeahJB/SimplyP), without any of the guiding documentation that is found in the accompanying long version of this notebook (so there is less scrolling required to run the model!). See the long version for more detailed guidance and a description of the inputs and outputs.\n",
    "\n",
    "### 1. User input"
   ]
  },
  {
   "cell_type": "code",
   "execution_count": null,
   "metadata": {},
   "outputs": [],
   "source": [
    "# Path to the Excel file containing parameters for setup and all the model parameters\n",
    "params_fpath = (r'Parameters_v0-2A_Tarland.xlsx')\n",
    "\n",
    "# Plotting options: either 'paper' or 'notebook'\n",
    "fig_display_type = 'notebook'\n",
    "\n",
    "# Set within-notebook plots to be interactive (zoomable and pannable)?\n",
    "%matplotlib inline\n",
    "# %matplotlib notebook"
   ]
  },
  {
   "cell_type": "markdown",
   "metadata": {},
   "source": [
    "### 2. Read input data"
   ]
  },
  {
   "cell_type": "code",
   "execution_count": null,
   "metadata": {},
   "outputs": [],
   "source": [
    "# Import the simplyP module\n",
    "import simplyP as sp\n",
    "\n",
    "# Read in model inputs, parameters, and any observations. If necessary calculate derived inputs\n",
    "p_SU, dynamic_options, p, p_LU, p_SC, p_struc, met_df, obs_dict = sp.read_input_data(params_fpath)"
   ]
  },
  {
   "cell_type": "markdown",
   "metadata": {},
   "source": [
    "### 3. Run the model"
   ]
  },
  {
   "cell_type": "code",
   "execution_count": null,
   "metadata": {
    "scrolled": false
   },
   "outputs": [],
   "source": [
    "%%time\n",
    "# Run model\n",
    "df_TC_dict, df_R_dict, Kf, ode_output_dict = sp.run_simply_p(met_df, p_struc, p_SU, p_LU,\n",
    "                                                             p_SC, p, dynamic_options)"
   ]
  },
  {
   "cell_type": "markdown",
   "metadata": {},
   "source": [
    "### 4. Explore model results"
   ]
  },
  {
   "cell_type": "code",
   "execution_count": null,
   "metadata": {
    "scrolled": false
   },
   "outputs": [],
   "source": [
    "# Plot snowfall/melt\n",
    "sp.plot_snow(met_df, p_SU, fig_display_type)"
   ]
  },
  {
   "cell_type": "code",
   "execution_count": null,
   "metadata": {
    "scrolled": false
   },
   "outputs": [],
   "source": [
    "# Plot terrestrial\n",
    "sp.plot_terrestrial(p_SU, p_SC, p, df_TC_dict, met_df, fig_display_type)"
   ]
  },
  {
   "cell_type": "code",
   "execution_count": null,
   "metadata": {
    "scrolled": false
   },
   "outputs": [],
   "source": [
    "# Plot in-stream\n",
    "# N.B. if you selected a log scale, you may get a warning if any of the simulated values are close to 0.\n",
    "sp.plot_in_stream(p_SU, obs_dict, df_R_dict, fig_display_type)"
   ]
  },
  {
   "cell_type": "code",
   "execution_count": null,
   "metadata": {},
   "outputs": [],
   "source": [
    "# Calculate goodness of fit\n",
    "gof_stats = sp.goodness_of_fit_stats(p_SU, df_R_dict, obs_dict)\n",
    "gof_stats"
   ]
  },
  {
   "cell_type": "markdown",
   "metadata": {},
   "source": [
    "### 5. Optional: Calculate summed inputs to a downstream waterbody (e.g. a lake or an estuary)"
   ]
  },
  {
   "cell_type": "code",
   "execution_count": null,
   "metadata": {},
   "outputs": [],
   "source": [
    "# Sum discharges and masses from reaches directly upstream, and calculate\n",
    "# in-stream concentrations\n",
    "df_summed = sp.sum_to_waterbody(p_struc, p_SU['n_SC'], df_R_dict, p['f_TDP'])\n",
    "\n",
    "# Plot results and save to csv if parameter 'save_output_csvs' set to 'y' in\n",
    "# parameter 'Setup' sheet\n",
    "if df_summed is not None: # Only plot if have done the sum (at least 2 reaches included in the sum)\n",
    "    sp.plot_instream_summed(p_SU, df_summed, fig_display_type)"
   ]
  },
  {
   "cell_type": "code",
   "execution_count": null,
   "metadata": {},
   "outputs": [],
   "source": []
  }
 ],
 "metadata": {
  "kernelspec": {
   "display_name": "Python 3",
   "language": "python",
   "name": "python3"
  },
  "language_info": {
   "codemirror_mode": {
    "name": "ipython",
    "version": 3
   },
   "file_extension": ".py",
   "mimetype": "text/x-python",
   "name": "python",
   "nbconvert_exporter": "python",
   "pygments_lexer": "ipython3",
   "version": "3.6.8"
  }
 },
 "nbformat": 4,
 "nbformat_minor": 1
}
